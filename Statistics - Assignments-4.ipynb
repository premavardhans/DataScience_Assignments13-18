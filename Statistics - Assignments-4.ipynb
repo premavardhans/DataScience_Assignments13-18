{
 "cells": [
  {
   "cell_type": "markdown",
   "metadata": {},
   "source": [
    "# Statistics - Assignments 4"
   ]
  },
  {
   "cell_type": "markdown",
   "metadata": {},
   "source": [
    "#### Problem Statement 1"
   ]
  },
  {
   "cell_type": "markdown",
   "metadata": {},
   "source": [
    "Is gender independent of education level? A random sample of 395 people were surveyed and each person was asked\n",
    "to report the highest education level they obtained. The data that resulted from the survey is summarized in the \n",
    "following table:\n",
    "\n",
    "                            High School            Bachelors       Masters        Ph.d      Total\n",
    "                            \n",
    "              Female             60                    54             46            41       201\n",
    "              \n",
    "              Male               40                    44             53            57       194\n",
    "              \n",
    "              Total             100                    98             99            98       395\n",
    "            \n",
    "Question: Are gender and education level dependent at 5% level of significance? In other words, given the data\n",
    "collected above, is there a relationship between the gender of an individual and the level of education that they\n",
    "have obtained?\n",
    "            "
   ]
  },
  {
   "cell_type": "markdown",
   "metadata": {},
   "source": [
    "Chi-square test is used to test the independence of the categorical features: χ2=∑(O−E)2/E  \n",
    "\n",
    "Where, χ2 - Chi-square\n",
    "O - observed frequency\n",
    "E - Expected Frequency\n",
    "\n",
    "E = (Total Row * Total Column)/Size of Sample. \n",
    "\n",
    "Here the size of sample is given as 395."
   ]
  },
  {
   "cell_type": "markdown",
   "metadata": {},
   "source": [
    "1. Observation value is 60 and it's related expected value is (201*100)/395 = 50.886\n",
    "\n",
    "2. Observation value is 40 and it's related expected value is (194*100)/395 = 49.113\n",
    "\n",
    "3. Observation value is 54 and it's related expected value is (201*98)/395 =  49.868\n",
    "\n",
    "4. Observation value is 44 and it's related expected value is (194*98)/395 =  48.131\n",
    "\n",
    "5. Observation value is 46 and it's related expected value is (201*99)/395 =  50.377\n",
    "\n",
    "6. Observation value is 53 and it's related expected value is (194*99)/395 =  48.622\n",
    "\n",
    "7. Observation value is 41 and it's related Expected value is (201*98)/395 =  49.868\n",
    "\n",
    "8. Observation value is 57 and it's related Expected value is (194*98)/395 =  48.131\n"
   ]
  },
  {
   "cell_type": "markdown",
   "metadata": {},
   "source": [
    "χ2 = (60-50.886)^2/50.886 = 1.632\n",
    "\n",
    "     (40-49.113)^2/49.113 = 1.690\n",
    "     \n",
    "     (54-49.868)^2/49.868 = 0.342\n",
    "     \n",
    "     (44-48.131)^2/48.131 = 0.354\n",
    "     \n",
    "     (46-50.377)^2/50.377 = 0.380\n",
    "     \n",
    "     (53-48.622)^2/48.622 = 0.394\n",
    "     \n",
    "     (41-49.868)^2/49.868 = 1.576\n",
    "     \n",
    "     (57-48.131)^2/48.131 = 1.634\n",
    "     \n",
    "     1.632 + 1.690 + 0.342 + 0.354 + 0.380 + 0.394 + 1.576 + 1.634 = 8.002"
   ]
  },
  {
   "cell_type": "markdown",
   "metadata": {},
   "source": [
    "Degree of freedom = (Number of Columns - 1) * (Number of Rows - 1) = (4-1)*(2-1) = 3*1 = 3\n",
    "\n",
    "Now referring Chi-square table with input params (Degree of freedom = 3 and level of significance = 0.05),\n",
    "\n",
    "the critical value for χ2 is found to be: 7.814"
   ]
  },
  {
   "cell_type": "markdown",
   "metadata": {},
   "source": [
    "The critical value of χ2 with 3 degree of freedom is 7.814. Since 8.002 > 7.814, therefore we reject the\n",
    "null hypothesis and conclude that the education level depends on gender at a 5% level of significance."
   ]
  },
  {
   "cell_type": "markdown",
   "metadata": {},
   "source": [
    "#### Problem statement 2"
   ]
  },
  {
   "cell_type": "markdown",
   "metadata": {},
   "source": [
    "Using the following data, perform a oneway analysis of variance using α =.05. Write up the result in APA format. \n",
    "\n",
    "[Group1: 51, 45, 33, 45, 67]\n",
    "\n",
    "[Group2: 23, 43, 23, 43, 45]\n",
    "\n",
    "[Group3: 56, 76, 74, 78, 56]"
   ]
  },
  {
   "cell_type": "markdown",
   "metadata": {},
   "source": [
    "Solution for this problem is provided in APA format. "
   ]
  },
  {
   "cell_type": "markdown",
   "metadata": {},
   "source": [
    "#### Problem statement 3"
   ]
  },
  {
   "cell_type": "markdown",
   "metadata": {},
   "source": [
    "Calculate F Test for given 10, 20, 30, 40, 50 and 5, 10, 15, 20, 25. For 10, 20, 30, 40, 50."
   ]
  },
  {
   "cell_type": "markdown",
   "metadata": {},
   "source": [
    "F test is known as ratio of variance of set of values. \n",
    "\n",
    "set1: 10, 20, 30, 40, 50\n",
    "Mean of Set1 = (10 +  20 + 30 + 40 + 50)/5 = 30\n",
    "Variance of Set1 = ((10-30)^2 + (20-30)^2 + (30-30)^2 + (40-30)^2 + (50-30)^2)/(5-1) \n",
    "\n",
    "                 = (400 + 100 + 0 + 100 + 400)/4 = 1000/4 = 250. \n",
    "Set2: 5, 10, 15, 20, 25\n",
    "Mean of Set2  = (5 + 10 + 15 + 20 + 25)/5 = 75/5 = 15\n",
    "Variance of Set2 = ( (5-15)^2 + (10-15)^2 + (15-15)^2 + (20-15)^2 + (25-15)^2))/(5-1)\n",
    "\n",
    "                 = (100 + 25 + 0 + 25 + 100)/(5-1) = 250/4 = 62.5\n",
    "\n",
    "F Test for 10, 20, 30, 40, 50 = Variance of Set1 / Varience of Set2 => 250/62.5 => 4. "
   ]
  }
 ],
 "metadata": {
  "kernelspec": {
   "display_name": "Python 3",
   "language": "python",
   "name": "python3"
  },
  "language_info": {
   "codemirror_mode": {
    "name": "ipython",
    "version": 3
   },
   "file_extension": ".py",
   "mimetype": "text/x-python",
   "name": "python",
   "nbconvert_exporter": "python",
   "pygments_lexer": "ipython3",
   "version": "3.7.3"
  }
 },
 "nbformat": 4,
 "nbformat_minor": 2
}
