{
 "cells": [
  {
   "cell_type": "markdown",
   "metadata": {},
   "source": [
    "# Statistics - Assignment 1"
   ]
  },
  {
   "cell_type": "markdown",
   "metadata": {},
   "source": [
    "1. Problem Statement 1"
   ]
  },
  {
   "cell_type": "markdown",
   "metadata": {},
   "source": [
    "###### You survey households in your area to find the average rent they are paying. Find the standard deviation from the following data: \n",
    "\n",
    "1550, 1700,900,850, 1000,950 in dollars."
   ]
  },
  {
   "cell_type": "code",
   "execution_count": 30,
   "metadata": {},
   "outputs": [],
   "source": [
    "#Mean of the given data.\n",
    "import numpy as np\n",
    "\n",
    "rent = [1550, 1700, 900, 850, 1000, 950]"
   ]
  },
  {
   "cell_type": "code",
   "execution_count": 31,
   "metadata": {},
   "outputs": [],
   "source": [
    "mean = np.average(rent)"
   ]
  },
  {
   "cell_type": "code",
   "execution_count": 32,
   "metadata": {},
   "outputs": [
    {
     "name": "stdout",
     "output_type": "stream",
     "text": [
      "[391.66666666666674, 541.6666666666667, -258.33333333333326, -308.33333333333326, -158.33333333333326, -208.33333333333326]\n"
     ]
    }
   ],
   "source": [
    "diff = []\n",
    "for i in range(len(rent)):\n",
    "    diff.append(rent[i]-mean)\n",
    "    \n",
    "print(diff)"
   ]
  },
  {
   "cell_type": "code",
   "execution_count": 37,
   "metadata": {},
   "outputs": [
    {
     "name": "stdout",
     "output_type": "stream",
     "text": [
      "[153402.77777778 293402.77777778  66736.11111111  95069.44444444\n",
      "  25069.44444444  43402.77777778]\n",
      "Variance =  112847.22222222223\n"
     ]
    }
   ],
   "source": [
    "print(np.square(diff))\n",
    "\n",
    "# Calculate the variance. \n",
    "variance = np.average(np.square(diff))\n",
    "print(\"Variance = \", variance)"
   ]
  },
  {
   "cell_type": "code",
   "execution_count": 34,
   "metadata": {},
   "outputs": [
    {
     "data": {
      "text/plain": [
       "335.92740617910624"
      ]
     },
     "execution_count": 34,
     "metadata": {},
     "output_type": "execute_result"
    }
   ],
   "source": [
    "#Standard deviation = Square root of(variance)\n",
    "np.sqrt(variance)"
   ]
  },
  {
   "cell_type": "markdown",
   "metadata": {},
   "source": [
    "Problem Statement - 2"
   ]
  },
  {
   "cell_type": "markdown",
   "metadata": {},
   "source": [
    "###### Find the variance the for the following set of data representing trees in California (heights in feet):\n",
    "3, 21, 98, 203, 17, 9"
   ]
  },
  {
   "cell_type": "code",
   "execution_count": 38,
   "metadata": {},
   "outputs": [],
   "source": [
    "import numpy as np\n",
    "\n",
    "heights = [3, 21, 98, 203, 17, 9]"
   ]
  },
  {
   "cell_type": "code",
   "execution_count": 40,
   "metadata": {},
   "outputs": [
    {
     "name": "stdout",
     "output_type": "stream",
     "text": [
      "Mean of the given Heights =  58.5\n"
     ]
    }
   ],
   "source": [
    "mean = np.average(heights)\n",
    "print(\"Mean of the given Heights = \", mean)"
   ]
  },
  {
   "cell_type": "code",
   "execution_count": 44,
   "metadata": {},
   "outputs": [
    {
     "name": "stdout",
     "output_type": "stream",
     "text": [
      "[-55.5, -37.5, 39.5, 144.5, -41.5, -49.5]\n"
     ]
    }
   ],
   "source": [
    "# Take the diffrence between each height and mean. \n",
    "diff = []\n",
    "for i in range(len(heights)):\n",
    "    diff.append(heights[i]-mean)\n",
    "    \n",
    "print(diff)"
   ]
  },
  {
   "cell_type": "code",
   "execution_count": 45,
   "metadata": {},
   "outputs": [
    {
     "data": {
      "text/plain": [
       "array([ 3080.25,  1406.25,  1560.25, 20880.25,  1722.25,  2450.25])"
      ]
     },
     "execution_count": 45,
     "metadata": {},
     "output_type": "execute_result"
    }
   ],
   "source": [
    "# Calculate the square of each of the difference. \n",
    "np.square(diff)"
   ]
  },
  {
   "cell_type": "code",
   "execution_count": 48,
   "metadata": {},
   "outputs": [
    {
     "name": "stdout",
     "output_type": "stream",
     "text": [
      "Variance of the given data =  5183.25\n"
     ]
    }
   ],
   "source": [
    "# Variance of the squared numbers.\n",
    "variance = np.average(np.square(diff))\n",
    "print(\"Variance of the given data = \", variance)"
   ]
  },
  {
   "cell_type": "markdown",
   "metadata": {},
   "source": [
    "Problem Statement - 3"
   ]
  },
  {
   "cell_type": "markdown",
   "metadata": {},
   "source": [
    "###### In a class of 100 students, 80 students passed in all subjects, 10 failed in one subject, 7 failed in two subjects and 3 failed in three subjects. Find the probability distribution of the variable for number of subjects a student from the given class has failed in. "
   ]
  },
  {
   "cell_type": "markdown",
   "metadata": {},
   "source": [
    "P(x=0) is the probability of a student who failed  in zero subject = 80/100 = 0.8 = 80%\n",
    "\n",
    "P(x=1) is the probability of a student who failed  in one subject = 10/100 = 0.1 = 10%\n",
    "\n",
    "P(x=2) is the probability of a student who failed  in two subject = 7/100 = 0.07= 7%\n",
    "\n",
    "P(x=3) is the probability of a student who failed  in three subject = 3/100 = 0.03= 3%"
   ]
  }
 ],
 "metadata": {
  "kernelspec": {
   "display_name": "Python 3",
   "language": "python",
   "name": "python3"
  },
  "language_info": {
   "codemirror_mode": {
    "name": "ipython",
    "version": 3
   },
   "file_extension": ".py",
   "mimetype": "text/x-python",
   "name": "python",
   "nbconvert_exporter": "python",
   "pygments_lexer": "ipython3",
   "version": "3.7.3"
  }
 },
 "nbformat": 4,
 "nbformat_minor": 2
}
