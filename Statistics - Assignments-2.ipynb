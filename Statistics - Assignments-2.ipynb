{
 "cells": [
  {
   "cell_type": "markdown",
   "metadata": {},
   "source": [
    "# Statistics Assignments - 2"
   ]
  },
  {
   "cell_type": "markdown",
   "metadata": {},
   "source": [
    "Problem Statement-1"
   ]
  },
  {
   "cell_type": "markdown",
   "metadata": {},
   "source": [
    "A test is conducted which is consisting of 20MCQs (Multiple Choice Questions) with every MCQ having its four options out of which only one is correct. Determine the probability that a person undertaking that test has answered exactly 5 questions wrong."
   ]
  },
  {
   "cell_type": "markdown",
   "metadata": {},
   "source": [
    "n - Number of total questions = 20.\n",
    "\n",
    "x - Number of wrong answers out of total questions = 5\n",
    "\n",
    "k - Number of correct answers out of total questions = (n-x) = 15\n",
    "\n",
    "Probability of giving right answer = S = 1/4.\n",
    "\n",
    "Probability of giving wrong answer = 1-S = 1-1/4 => 3/4. \n",
    "\n",
    "P (5 out of 20) = (20∗19∗18∗17∗16)/(5∗4∗3∗2∗1) * ((1/4)**15) * ((3/4)**5)\n",
    "\n",
    "= 0.0000034\n",
    "\n",
    "\n",
    "probability is 0.0000034    \n",
    "    "
   ]
  },
  {
   "cell_type": "markdown",
   "metadata": {},
   "source": [
    "#### Problem Statement-2"
   ]
  },
  {
   "cell_type": "markdown",
   "metadata": {},
   "source": [
    "A die marked A to E is rolled 50 times. Find the probability of getting 'D' exactly 5 times."
   ]
  },
  {
   "cell_type": "markdown",
   "metadata": {},
   "source": [
    "n = Number of trials = 50. \n",
    "\n",
    "x = Number of getting 'D' exactly 5 times = 5\n",
    "\n",
    "(n-x) = Number of not getting 'D' exactly = (50 - 5) = 45. \n",
    "\n",
    "P - Probability of getting 'D' per trail = 1/5\n",
    "\n",
    "Q - Probability of not getting \"D\" per rolling = 1-1/5 = 4/5\n",
    "\n",
    "Output :-\n",
    "\n",
    "P(x) = nCx.P^x.Q^y\n",
    "\n",
    "P(x=5) = 50C5*(1/5)^5*(4/5)^45 = 2118760 * 0.00032 * 1.40737488355328e-31 = 9.54204674648751210496e-29\n"
   ]
  },
  {
   "cell_type": "markdown",
   "metadata": {},
   "source": [
    "#### Problem Statement-3"
   ]
  },
  {
   "cell_type": "markdown",
   "metadata": {},
   "source": [
    "Two balls are drawn at random in succession without replacement from an urn containing 4 red balls and 6 black balls. Find the probability of all the possible outcomes."
   ]
  },
  {
   "cell_type": "markdown",
   "metadata": {},
   "source": [
    "First determine the probabilities of the events:\n",
    "    \n",
    "Events                                       Probability\n",
    "\n",
    "-----------                                 -------------\n",
    "\n",
    "Red - Red                                   (4/10) (3/9) = 2/15\n",
    "\n",
    "Red - Black                                 (4/10) (6/9) = 4/15\n",
    "\n",
    "Black - Red                                 (6/10) (4/9) = 4/15\n",
    "\n",
    "Black - Black                               (6/10) (5/9) = 1/3\n",
    "\n",
    "\n",
    "The probability of 0 black balls (Red - Red) is 2/15\n",
    "\n",
    "The probability of 1 black balls is (Red-Black or Black-Red) is 4/15+4/15 = 8/15\n",
    "\n",
    "The probability of 2 black balls is (Black-Black) is 1/3\n",
    "\n",
    "So the probability distribution is:\n",
    "\n",
    "Z              P(z)\n",
    "--             ----\n",
    "0               2/15\n",
    "1               8/15\n",
    "2               1/3\n",
    "\n",
    "The sum of the probabilities = 2/15+8/15+1/3 = 1."
   ]
  }
 ],
 "metadata": {
  "kernelspec": {
   "display_name": "Python 3",
   "language": "python",
   "name": "python3"
  },
  "language_info": {
   "codemirror_mode": {
    "name": "ipython",
    "version": 3
   },
   "file_extension": ".py",
   "mimetype": "text/x-python",
   "name": "python",
   "nbconvert_exporter": "python",
   "pygments_lexer": "ipython3",
   "version": "3.7.3"
  }
 },
 "nbformat": 4,
 "nbformat_minor": 2
}
