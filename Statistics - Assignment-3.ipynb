{
 "cells": [
  {
   "cell_type": "markdown",
   "metadata": {},
   "source": [
    "# Statistics - Assignments-3"
   ]
  },
  {
   "cell_type": "markdown",
   "metadata": {},
   "source": [
    "##### Problem Statement 1"
   ]
  },
  {
   "cell_type": "markdown",
   "metadata": {},
   "source": [
    "Blood glucose levels for obese patients have a mean of 100 with a standard deviation of 15. A researcher thinks that a diet high in raw cornstarch will have a positive effect on blood glucose levels. A sample of 36 patients who have tried the raw cornstarch diet have a mean glucose level of 108. Test the hypothesis that the raw cornstarch had an effect or not. "
   ]
  },
  {
   "cell_type": "markdown",
   "metadata": {},
   "source": [
    "###### Step-1: \n",
    "State the hypotheses. The population mean is 100. \n",
    "\n",
    "    H0: µ = 100\n",
    "    \n",
    "    H1: µ > 100"
   ]
  },
  {
   "cell_type": "markdown",
   "metadata": {},
   "source": [
    "###### Step-2: \n",
    "Set up the significance level. It is not given in the problem so let's assume it as 5% (0.05)."
   ]
  },
  {
   "cell_type": "markdown",
   "metadata": {},
   "source": [
    "###### Step-3:\n",
    "Compute the random chance probability using Z score and Z-table.\n",
    "\n",
    "z = (x - µ)/σ\n",
    "\n",
    "For this set of data: \n",
    "\n",
    "z = (108-100)/(15/√36) = 3.20.\n",
    "\n",
    "you can look at the probability  by looking at z-table and p-value associated with 3.20 is 0.0003 \n",
    "\n",
    "ie., probability of having value less than 108 is 0.9993 and more than or equal to 108 is (1-0.9993) = 0.0007."
   ]
  },
  {
   "cell_type": "markdown",
   "metadata": {},
   "source": [
    "###### Step-4:\n",
    "It is less than 0.05 so we will rejec the Null hypothesis i.e., there is raw conrnstarch effect"
   ]
  },
  {
   "cell_type": "markdown",
   "metadata": {},
   "source": [
    "###### Note: \n",
    "Setting significance level can also be done using z-value known as critical value. Findout the z-value of 5%\n",
    "probability and it is 1.65 (positive or negative, in any direction). Now we can compare calculated z-value \n",
    "with critical value to make a decision."
   ]
  },
  {
   "cell_type": "markdown",
   "metadata": {},
   "source": [
    "#### Problem Statement-2:"
   ]
  },
  {
   "cell_type": "markdown",
   "metadata": {},
   "source": [
    "In one state, 52% of the voters are Republicans, and 48% are Democrats. \n",
    "In a second state, 47% of the voters are Republicans, and 53% Democrats.\n",
    "Suppose a simple random sample of 100 voters are surveyed from each state. \n",
    "\n",
    "What is the probability that the survey will show a greater percentage of Repblican voters\n",
    "in the second state than in the first state?"
   ]
  },
  {
   "cell_type": "markdown",
   "metadata": {},
   "source": [
    "For this analysis, \n",
    "\n",
    "let P1 = the proportion of Republican voters in the first state,\n",
    "\n",
    "P2 = the proportion of Republican voters in the second state, \n",
    "\n",
    "p1 = the proportion of Republican voters in the sample from the first state, and \n",
    "p2 = the proportion of Republican voters in the sample from the second state. \n",
    "\n",
    "The number of voters sampled from the first state(n1) = 100, and\n",
    "the number of voters sampled from the second state(n2) = 100."
   ]
  },
  {
   "cell_type": "markdown",
   "metadata": {},
   "source": [
    "The solution involves four steps:\n",
    "\n",
    "1. Make sure the samples from each population are big enough to model differences with a normal distribution. \n",
    "\n",
    "n1P1 = 100 * 0.52 = 52, \n",
    "\n",
    "n1(1-P1) = 100 * 0.48 = 48, \n",
    "\n",
    "n2P2 = 100 * 0.47 = 47, \n",
    "\n",
    "n2(1-P2) = 100 * 0.53 = 53    are each greater than 10, the sample size is large enough"
   ]
  },
  {
   "cell_type": "markdown",
   "metadata": {},
   "source": [
    "2. Find the mean of the difference in sample proportions: E(p1-p2) = P1-P2 = 0.52 - 0.47 = 0.05."
   ]
  },
  {
   "cell_type": "markdown",
   "metadata": {},
   "source": [
    "3. Find the standard deviation of the difference:\n",
    "    \n",
    "σd = sqrt{ [ P1(1 - P1) / n1 ] + [ P2(1 - P2) / n2 ] } \n",
    "\n",
    "σd = sqrt{ [ (0.52)(0.48) / 100 ] + [ (0.47)(0.53) / 100 ] } \n",
    "\n",
    "σd = sqrt (0.002496 + 0.002491) = sqrt(0.004987) = 0.0706\n",
    "\n"
   ]
  },
  {
   "cell_type": "markdown",
   "metadata": {},
   "source": [
    "4. Find the probability. This problem requires us to find the probabiity that p1 is less than p2. \n",
    "\n",
    "This is equivalent to finding the probability that p1-p2 is less than zero. To find this probability, \n",
    "\n",
    "we need to transform the random variable (p1-p2) into a z-score. That transformation appears below:\n",
    "\n",
    "zp1 - p2 = (x - μp1 - p2) / σd = = (0 - 0.05)/0.0706 = -0.7082\n",
    "\n",
    "We find that the probability of a z-score being -0.7082 or less is 0.24. \n",
    "\n",
    "Therefore, the probability that the survey will show a greater percentage of Republican voters in the second state \n",
    "\n",
    "than in state is 0.24."
   ]
  },
  {
   "cell_type": "markdown",
   "metadata": {},
   "source": [
    "#### Problem Statement-3:"
   ]
  },
  {
   "cell_type": "markdown",
   "metadata": {},
   "source": [
    "You take the SAT and score 1100. The mean score for the SAT is 1026 and the standard\n",
    "\n",
    "deviation is 209. How well did you score on the test compared to the average test taker?"
   ]
  },
  {
   "cell_type": "markdown",
   "metadata": {},
   "source": [
    "step1: Write your X-value into the z-score equation. For this sample question the x-value is your SAT score, 1100.\n",
    "\n",
    "    Z = (1100 - µ) / σ\n",
    "\n",
    "Step 2: Put the mean, µ into the z-score equation. \n",
    "    \n",
    "    Z = (1100 - 1026) / σ\n",
    "    \n",
    "Step 3: Write the standard deviation, σ into the z-score equation. \n",
    "    \n",
    "    z = (1100 - 1026) / 209\n",
    "    \n",
    "    z = 0.354. \n",
    "\n",
    "This means that your score was 0.354 standard deviation above the mean. \n",
    "\n",
    "Step 4: Look up your z-value in the z-table to see what percentage of test-takers scored below you. \n",
    "\n",
    "A z-score of 0.354 is 0.1368 + 0.5000 = 0.6368 or 63.68%."
   ]
  }
 ],
 "metadata": {
  "kernelspec": {
   "display_name": "Python 3",
   "language": "python",
   "name": "python3"
  },
  "language_info": {
   "codemirror_mode": {
    "name": "ipython",
    "version": 3
   },
   "file_extension": ".py",
   "mimetype": "text/x-python",
   "name": "python",
   "nbconvert_exporter": "python",
   "pygments_lexer": "ipython3",
   "version": "3.7.3"
  }
 },
 "nbformat": 4,
 "nbformat_minor": 2
}
